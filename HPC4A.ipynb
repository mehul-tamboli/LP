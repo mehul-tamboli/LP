{
  "cells": [
    {
      "cell_type": "code",
      "execution_count": null,
      "metadata": {
        "colab": {
          "base_uri": "https://localhost:8080/"
        },
        "id": "ElNR9ecK_jLp",
        "outputId": "1d1a6352-a734-474b-91cd-14418a1c1f42"
      },
      "outputs": [],
      "source": [
        "%%writefile vector_add.cu\n",
        "#include <stdio.h>\n",
        "#include <cuda_runtime.h>\n",
        "\n",
        "__global__ void vectorAdd(float *a, float *b, float *c, int n) {\n",
        "    int i = blockIdx.x * blockDim.x + threadIdx.x;\n",
        "    if (i < n) {\n",
        "        c[i] = a[i] + b[i];\n",
        "    }\n",
        "}\n",
        "\n",
        "#define CHECK_CUDA_ERROR(call) \\\n",
        "    do { \\\n",
        "        cudaError_t err = call; \\\n",
        "        if (err != cudaSuccess) { \\\n",
        "            fprintf(stderr, \"CUDA error in %s at line %d: %s\\n\", __FILE__, __LINE__, cudaGetErrorString(err)); \\\n",
        "            return 1; \\\n",
        "        } \\\n",
        "    } while(0)\n",
        "\n",
        "int main() {\n",
        "    int n = 1 << 20;\n",
        "    size_t size = n * sizeof(float);\n",
        "\n",
        "\n",
        "    float *h_a = (float *)malloc(size);\n",
        "    float *h_b = (float *)malloc(size);\n",
        "    float *h_c = (float *)malloc(size);\n",
        "\n",
        "\n",
        "    for (int i = 0; i < n; i++) {\n",
        "        h_a[i] = float(i);\n",
        "        h_b[i] = float(i * 2);\n",
        "    }\n",
        "\n",
        "\n",
        "    float *d_a, *d_b, *d_c;\n",
        "    CHECK_CUDA_ERROR(cudaMalloc((void **)&d_a, size));\n",
        "    CHECK_CUDA_ERROR(cudaMalloc((void **)&d_b, size));\n",
        "    CHECK_CUDA_ERROR(cudaMalloc((void **)&d_c, size));\n",
        "\n",
        "\n",
        "    CHECK_CUDA_ERROR(cudaMemcpy(d_a, h_a, size, cudaMemcpyHostToDevice));\n",
        "    CHECK_CUDA_ERROR(cudaMemcpy(d_b, h_b, size, cudaMemcpyHostToDevice));\n",
        "\n",
        "\n",
        "    int threadsPerBlock = 256;\n",
        "    int blocksPerGrid = (n + threadsPerBlock - 1) / threadsPerBlock;\n",
        "    vectorAdd<<<blocksPerGrid, threadsPerBlock>>>(d_a, d_b, d_c, n);\n",
        "\n",
        "\n",
        "    CHECK_CUDA_ERROR(cudaGetLastError());\n",
        "\n",
        "\n",
        "    CHECK_CUDA_ERROR(cudaMemcpy(h_c, d_c, size, cudaMemcpyDeviceToHost));\n",
        "\n",
        "\n",
        "    for (int i = 0; i < 9; i++) {\n",
        "        printf(\"c[%d] = %f\\n\", i, h_c[i]);\n",
        "    }\n",
        "\n",
        "\n",
        "    cudaFree(d_a);\n",
        "    cudaFree(d_b);\n",
        "    cudaFree(d_c);\n",
        "    free(h_a);\n",
        "    free(h_b);\n",
        "    free(h_c);\n",
        "\n",
        "    return 0;\n",
        "}"
      ]
    },
    {
      "cell_type": "code",
      "execution_count": null,
      "metadata": {
        "colab": {
          "base_uri": "https://localhost:8080/"
        },
        "id": "5ZDo0huT_75O",
        "outputId": "bcb3e2a0-0873-4fc6-b41e-cb0b29f4f015"
      },
      "outputs": [],
      "source": [
        "!nvcc -arch=sm_75 vector_add.cu -o vector_add\n",
        "!./vector_add"
      ]
    }
  ],
  "metadata": {
    "accelerator": "GPU",
    "colab": {
      "gpuType": "T4",
      "provenance": []
    },
    "kernelspec": {
      "display_name": "Python 3",
      "name": "python3"
    },
    "language_info": {
      "codemirror_mode": {
        "name": "ipython",
        "version": 3
      },
      "file_extension": ".py",
      "mimetype": "text/x-python",
      "name": "python",
      "nbconvert_exporter": "python",
      "pygments_lexer": "ipython3",
      "version": "3.12.6"
    }
  },
  "nbformat": 4,
  "nbformat_minor": 0
}
