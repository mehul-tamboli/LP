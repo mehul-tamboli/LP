{
  "cells": [
    {
      "cell_type": "code",
      "execution_count": null,
      "id": "36e90601",
      "metadata": {
        "id": "36e90601"
      },
      "outputs": [],
      "source": [
        "import pandas as pd\n",
        "import matplotlib.pyplot as plt"
      ]
    },
    {
      "cell_type": "code",
      "execution_count": null,
      "id": "64638d93",
      "metadata": {
        "colab": {
          "base_uri": "https://localhost:8080/",
          "height": 363
        },
        "id": "64638d93",
        "outputId": "b0166a7c-922e-4277-c0da-a2ef494a8792"
      },
      "outputs": [],
      "source": [
        "url = \"https://raw.githubusercontent.com/selva86/datasets/master/BostonHousing.csv\"\n",
        "df = pd.read_csv(url)\n",
        "df.head(10)"
      ]
    },
    {
      "cell_type": "code",
      "execution_count": null,
      "id": "e4792737",
      "metadata": {
        "colab": {
          "base_uri": "https://localhost:8080/",
          "height": 523
        },
        "id": "e4792737",
        "outputId": "f98293e0-9fd2-47b8-f79d-99d58e1128d8"
      },
      "outputs": [],
      "source": [
        "df.isnull().sum()"
      ]
    },
    {
      "cell_type": "code",
      "execution_count": null,
      "id": "036b309e",
      "metadata": {
        "colab": {
          "base_uri": "https://localhost:8080/"
        },
        "id": "036b309e",
        "outputId": "a9ecf7b6-f082-4e63-cb3d-f94cf28eabfc"
      },
      "outputs": [],
      "source": [
        "df.info()"
      ]
    },
    {
      "cell_type": "code",
      "execution_count": null,
      "id": "851ae670",
      "metadata": {
        "colab": {
          "base_uri": "https://localhost:8080/",
          "height": 300
        },
        "id": "851ae670",
        "outputId": "c56ebbb4-7a8a-4418-d610-b15d4c46d87c"
      },
      "outputs": [],
      "source": [
        "df.describe()"
      ]
    },
    {
      "cell_type": "code",
      "execution_count": null,
      "id": "64ef4b15",
      "metadata": {
        "colab": {
          "base_uri": "https://localhost:8080/",
          "height": 523
        },
        "id": "64ef4b15",
        "outputId": "e846b8df-ec57-4586-aca2-670972fb8d3a"
      },
      "outputs": [],
      "source": [
        "df.corr()['medv'].sort_values()"
      ]
    },
    {
      "cell_type": "code",
      "execution_count": null,
      "id": "7168e688",
      "metadata": {
        "colab": {
          "base_uri": "https://localhost:8080/"
        },
        "id": "7168e688",
        "outputId": "ab4e42a5-a069-492e-8c8b-1c3994873539"
      },
      "outputs": [],
      "source": [
        "X = df.loc[:,['lstat','ptratio','rm']]\n",
        "Y = df.loc[:,\"medv\"]\n",
        "X.shape,Y.shape"
      ]
    },
    {
      "cell_type": "code",
      "execution_count": null,
      "id": "cecea370",
      "metadata": {
        "id": "cecea370"
      },
      "outputs": [],
      "source": [
        "from sklearn.model_selection import train_test_split\n",
        "x_train,x_test,y_train,y_test = train_test_split(X,Y,test_size=0.25,random_state=10)"
      ]
    },
    {
      "cell_type": "code",
      "execution_count": null,
      "id": "926fe0ce",
      "metadata": {
        "id": "926fe0ce"
      },
      "outputs": [],
      "source": [
        "from sklearn.preprocessing import StandardScaler"
      ]
    },
    {
      "cell_type": "code",
      "execution_count": null,
      "id": "1e49c4a2",
      "metadata": {
        "id": "1e49c4a2"
      },
      "outputs": [],
      "source": [
        "scaler = StandardScaler()"
      ]
    },
    {
      "cell_type": "code",
      "execution_count": null,
      "id": "b99b26de",
      "metadata": {
        "colab": {
          "base_uri": "https://localhost:8080/",
          "height": 80
        },
        "id": "b99b26de",
        "outputId": "6b7cafd6-831c-4853-a883-f4d40c919e7f"
      },
      "outputs": [],
      "source": [
        "scaler.fit(x_train)"
      ]
    },
    {
      "cell_type": "code",
      "execution_count": null,
      "id": "eece8526",
      "metadata": {
        "id": "eece8526"
      },
      "outputs": [],
      "source": [
        "x_train = scaler.transform(x_train)\n",
        "x_test = scaler.transform(x_test)"
      ]
    },
    {
      "cell_type": "code",
      "execution_count": null,
      "id": "1243c6f8",
      "metadata": {
        "id": "1243c6f8"
      },
      "outputs": [],
      "source": [
        "from keras.models import Sequential\n",
        "from keras.layers import Dense"
      ]
    },
    {
      "cell_type": "code",
      "execution_count": null,
      "id": "e7dad931",
      "metadata": {
        "id": "e7dad931"
      },
      "outputs": [],
      "source": [
        "model = Sequential()"
      ]
    },
    {
      "cell_type": "code",
      "execution_count": null,
      "id": "0baf27a9",
      "metadata": {
        "colab": {
          "base_uri": "https://localhost:8080/",
          "height": 280
        },
        "id": "0baf27a9",
        "outputId": "4400685b-aba8-4b33-ec9e-5c2d59949d4e"
      },
      "outputs": [],
      "source": [
        "model.add(Dense(128,input_shape=(3,),activation='relu',name='input'))\n",
        "model.add(Dense(64,activation='relu',name='layer_1'))\n",
        "model.add(Dense(1,activation='linear',name='output'))\n",
        "model.compile(optimizer='adam', loss='mse', metrics=['mae'])\n",
        "model.summary()"
      ]
    },
    {
      "cell_type": "code",
      "execution_count": null,
      "id": "4b51358b",
      "metadata": {
        "colab": {
          "base_uri": "https://localhost:8080/"
        },
        "id": "4b51358b",
        "outputId": "6b7b5fb7-c892-4667-958e-8955dc077439"
      },
      "outputs": [],
      "source": [
        "model.fit(x_train,y_train,epochs=100,validation_split=0.05)"
      ]
    },
    {
      "cell_type": "code",
      "execution_count": null,
      "id": "e2afb08a",
      "metadata": {
        "colab": {
          "base_uri": "https://localhost:8080/"
        },
        "id": "e2afb08a",
        "outputId": "b8911a50-12d9-4bd2-83fc-8d3b1e6103c2"
      },
      "outputs": [],
      "source": [
        "output = model.evaluate(x_test,y_test)"
      ]
    },
    {
      "cell_type": "code",
      "execution_count": null,
      "id": "b7bf34bd",
      "metadata": {
        "colab": {
          "base_uri": "https://localhost:8080/"
        },
        "id": "b7bf34bd",
        "outputId": "ec3eebe5-1266-4750-a66a-46712aed3d75"
      },
      "outputs": [],
      "source": [
        "print(f\"Mean Squared Error: {output[0]}\"\n",
        "      ,f\"Mean Absolute Error: {output[1]}\",sep=\"\\n\")"
      ]
    },
    {
      "cell_type": "code",
      "execution_count": null,
      "id": "85333e40",
      "metadata": {
        "colab": {
          "base_uri": "https://localhost:8080/"
        },
        "id": "85333e40",
        "outputId": "07063160-a014-449d-f1f9-6941c1de9eaf"
      },
      "outputs": [],
      "source": [
        "y_pred = model.predict(x=x_test)"
      ]
    },
    {
      "cell_type": "code",
      "execution_count": null,
      "id": "4be4c127",
      "metadata": {
        "colab": {
          "base_uri": "https://localhost:8080/"
        },
        "id": "4be4c127",
        "outputId": "bf089eac-938d-4765-b878-33c9c4001761"
      },
      "outputs": [],
      "source": [
        "print(*zip(y_pred,y_test))"
      ]
    }
  ],
  "metadata": {
    "colab": {
      "provenance": []
    },
    "kernelspec": {
      "display_name": "Python 3",
      "language": "python",
      "name": "python3"
    },
    "language_info": {
      "codemirror_mode": {
        "name": "ipython",
        "version": 3
      },
      "file_extension": ".py",
      "mimetype": "text/x-python",
      "name": "python",
      "nbconvert_exporter": "python",
      "pygments_lexer": "ipython3",
      "version": "3.12.6"
    }
  },
  "nbformat": 4,
  "nbformat_minor": 5
}
